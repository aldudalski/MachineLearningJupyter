{
 "cells": [
  {
   "cell_type": "markdown",
   "metadata": {},
   "source": [
    "# 6.2 Spam Classification with SVMs \n",
    "## Part 1: Email Preprocessing"
   ]
  },
  {
   "cell_type": "code",
   "execution_count": 1,
   "metadata": {},
   "outputs": [],
   "source": [
    "# import key libraries (remember to pip install numpy etc. first)\n",
    "import numpy as np\n",
    "import sys\n",
    "import sklearn as sk\n",
    "import matplotlib.pyplot as plt\n",
    "%matplotlib inline"
   ]
  },
  {
   "cell_type": "code",
   "execution_count": 2,
   "metadata": {},
   "outputs": [
    {
     "name": "stdout",
     "output_type": "stream",
     "text": [
      "\n",
      "Preprocessing sample email (emailSample1.txt)\n",
      "\n"
     ]
    }
   ],
   "source": [
    "print('\\nPreprocessing sample email (emailSample1.txt)\\n')\n",
    "PATH=\"./data/\"\n",
    "DATA=\"emailSample1.txt\"\n",
    "\n",
    "with open(f'{PATH}{DATA}', 'r') as email:\n",
    "    file_contents=email.read()#.replace('\\n', '')\n",
    "    email.close()"
   ]
  },
  {
   "cell_type": "code",
   "execution_count": 3,
   "metadata": {},
   "outputs": [
    {
     "data": {
      "text/plain": [
       "\"> Anyone knows how much it costs to host a web portal ?\\n>\\nWell, it depends on how many visitors you're expecting.\\nThis can be anywhere from less than 10 bucks a month to a couple of $100. \\nYou should checkout http://www.rackspace.com/ or perhaps Amazon EC2 \\nif youre running something big..\\n\\nTo unsubscribe yourself from this mailing list, send an email to:\\ngroupname-unsubscribe@egroups.com\\n\\n\""
      ]
     },
     "execution_count": 3,
     "metadata": {},
     "output_type": "execute_result"
    }
   ],
   "source": [
    "file_contents"
   ]
  },
  {
   "cell_type": "code",
   "execution_count": 117,
   "metadata": {},
   "outputs": [],
   "source": [
    "def getVocabList():\n",
    "    #GETVOCABLIST reads the fixed vocabulary list in vocab.txt and returns a\n",
    "    #cell array of the words\n",
    "    #   vocabList = GETVOCABLIST() reads the fixed vocabulary list in vocab.txt \n",
    "    #   and returns a cell array of the words in vocabList.\n",
    "    DATA=\"vocab.txt\"\n",
    "    vocablist = []\n",
    "    with open(f'{PATH}{DATA}', 'r') as vocabfile:\n",
    "        lines=vocabfile.readlines()#.replace('\\n','')\n",
    "        vocabfile.close()\n",
    "    for line in lines:\n",
    "        vocablist += [line[line.find('\\t')+1:-1]]\n",
    "    return np.array(vocablist)"
   ]
  },
  {
   "cell_type": "code",
   "execution_count": 118,
   "metadata": {},
   "outputs": [
    {
     "data": {
      "text/plain": [
       "array(['aa', 'ab', 'abil', ..., 'zdnet', 'zero', 'zip'], dtype='<U40')"
      ]
     },
     "execution_count": 118,
     "metadata": {},
     "output_type": "execute_result"
    }
   ],
   "source": [
    "getVocabList()"
   ]
  },
  {
   "cell_type": "code",
   "execution_count": 5,
   "metadata": {},
   "outputs": [],
   "source": [
    "import re # regular expressions"
   ]
  },
  {
   "cell_type": "code",
   "execution_count": 72,
   "metadata": {},
   "outputs": [],
   "source": [
    "def regexprep (email, reg, repl):\n",
    "    regex = re.compile(reg, re.IGNORECASE)\n",
    "    email_contents, count = regex.subn(repl, email)\n",
    "    return email_contents"
   ]
  },
  {
   "cell_type": "code",
   "execution_count": 161,
   "metadata": {},
   "outputs": [],
   "source": [
    "def processEmail(email_contents):\n",
    "    #PROCESSEMAIL preprocesses a the body of an email and\n",
    "    #returns a list of word_indices\n",
    "    #   word_indices = PROCESSEMAIL(email_contents) preprocesses\n",
    "    #   the body of an email and returns a list of indices of the\n",
    "    #   words contained in the email.\n",
    "    #\n",
    "\n",
    "    # Load Vocabulary\n",
    "    vocabList = getVocabList()\n",
    "\n",
    "    # Init return value\n",
    "    word_indices = np.array([])\n",
    "\n",
    "    # ========================== Preprocess Email ===========================\n",
    "\n",
    "    # Find the Headers ( \\n\\n and remove )\n",
    "    # Uncomment the following lines if you are working with raw emails with the\n",
    "    # full headers\n",
    "\n",
    "    # hdrstart = strfind(email_contents, ([char(10) char(10)]));\n",
    "    # email_contents = email_contents(hdrstart(1):end);\n",
    "\n",
    "    # Lower case\n",
    "    email_contents = email_contents.lower()\n",
    "\n",
    "    # Strip all HTML\n",
    "    # Looks for any expression that starts with < and ends with > and replace\n",
    "    # and does not have any < or > in the tag it with a space\n",
    "\n",
    "    email_contents = regexprep(email_contents, r'<[^<>]+>', ' ')\n",
    "\n",
    "    # Handle Numbers\n",
    "    # Look for one or more characters between 0-9\n",
    "    email_contents = regexprep(email_contents, r'[0-9]+', 'number')\n",
    "\n",
    "    # Handle URLS\n",
    "    # Look for strings starting with http:// or https://\n",
    "\n",
    "    email_contents = regexprep(email_contents, r'(http|https)://[^\\s]*', 'httpaddr')\n",
    "\n",
    "    # Handle Email Addresses\n",
    "    # 3 Look for strings with @ in the middle\n",
    "    email_contents = regexprep(email_contents, r'[^\\s]+@[^\\s]+', 'emailaddr');\n",
    "\n",
    "    # Handle $ sign\n",
    "    email_contents = regexprep(email_contents, r'[$]+', 'dollar');\n",
    "\n",
    "    # Output the email to screen as well\n",
    "    print('\\n==== Processed Email ====\\n\\n');\n",
    "\n",
    "    # Process file\n",
    "    l = 0\n",
    "    \n",
    "    # Tokenize and also get rid of any punctuation\n",
    "    regex = re.compile(r'[][ @$/#.-:&*+=?!(){},''\">_<;%\\n\\t]', re.IGNORECASE)\n",
    "    string_splits = re.split(regex, email_contents) \n",
    "\n",
    "    from nltk.stem import PorterStemmer\n",
    "    ps = PorterStemmer()\n",
    "    count = 0\n",
    "    for str in string_splits:\n",
    "\n",
    "        # Remove any non alphanumeric characters\n",
    "        str = regexprep(str, '[^a-zA-Z0-9]', '')\n",
    "\n",
    "        # Stem the word\n",
    "        # (the porterStemmer sometimes has issues, so we use a try catch block)\n",
    "        str=ps.stem(str)\n",
    "\n",
    "        # Skip the word if it is too short\n",
    "        if len(str) < 1:\n",
    "           continue\n",
    "\n",
    "        #wordindx = find(ismember(vocabList, str)==1)\n",
    "        wordindx = np.argwhere(np.in1d(vocabList, str)).ravel()\n",
    "        #print(f'word_indices{word_indices} \\n wordindx{wordindx}')\n",
    "\n",
    "        if len(wordindx)>0:\n",
    "            word_indices = np.r_[word_indices, wordindx]\n",
    "\n",
    "        # Print to screen, ensuring that the output lines are not too long\n",
    "        if (l + len(str) + 1) > 78:\n",
    "            print('\\n')\n",
    "            l = 0\n",
    "        print(f'{str} ', end='')\n",
    "        l = l + len(str) + 1\n",
    "\n",
    "    return word_indices"
   ]
  },
  {
   "cell_type": "code",
   "execution_count": 162,
   "metadata": {},
   "outputs": [
    {
     "name": "stdout",
     "output_type": "stream",
     "text": [
      "\n",
      "==== Processed Email ====\n",
      "\n",
      "\n",
      "anyon know how much it cost to host a web portal well it depend on how mani \n",
      "\n",
      "visitor your expect thi can be anywher from less than number buck a month to \n",
      "\n",
      "a coupl of dollarnumb you should checkout httpaddr or perhap amazon ecnumb if \n",
      "\n",
      "your run someth big to unsubscrib yourself from thi mail list send an email \n",
      "\n",
      "to emailaddr "
     ]
    }
   ],
   "source": [
    "word_indices  = processEmail(file_contents)"
   ]
  },
  {
   "cell_type": "code",
   "execution_count": 138,
   "metadata": {},
   "outputs": [
    {
     "name": "stdout",
     "output_type": "stream",
     "text": [
      "Lower case\n",
      " dollarnumber blah number number blah httpaddr    dude > anyone knows how much it costs to host a web portal ?\n",
      ">\n",
      "well, it depends on how many visitors you're expecting.\n",
      "this can be anywhere from less than number bucks a month to a couple of dollarnumber. \n",
      "you should checkout httpaddr or perhaps amazon ecnumber \n",
      "if youre running something big..\n",
      "\n",
      "to unsubscribe yourself from this mailing list, send an email to:\n",
      "emailaddr\n",
      "\n",
      "\n",
      "Strip All HTML\n",
      " dollarnumber blah number number blah httpaddr    dude > anyone knows how much it costs to host a web portal ?\n",
      ">\n",
      "well, it depends on how many visitors you're expecting.\n",
      "this can be anywhere from less than number bucks a month to a couple of dollarnumber. \n",
      "you should checkout httpaddr or perhaps amazon ecnumber \n",
      "if youre running something big..\n",
      "\n",
      "to unsubscribe yourself from this mailing list, send an email to:\n",
      "emailaddr\n",
      "\n",
      "\n",
      "Handle Numbers\n",
      " dollarnumber blah number number blah httpaddr    dude > anyone knows how much it costs to host a web portal ?\n",
      ">\n",
      "well, it depends on how many visitors you're expecting.\n",
      "this can be anywhere from less than number bucks a month to a couple of dollarnumber. \n",
      "you should checkout httpaddr or perhaps amazon ecnumber \n",
      "if youre running something big..\n",
      "\n",
      "to unsubscribe yourself from this mailing list, send an email to:\n",
      "emailaddr\n",
      "\n",
      "\n",
      "Handle URLs\n",
      " dollarnumber blah number number blah httpaddr    dude > anyone knows how much it costs to host a web portal ?\n",
      ">\n",
      "well, it depends on how many visitors you're expecting.\n",
      "this can be anywhere from less than number bucks a month to a couple of dollarnumber. \n",
      "you should checkout httpaddr or perhaps amazon ecnumber \n",
      "if youre running something big..\n",
      "\n",
      "to unsubscribe yourself from this mailing list, send an email to:\n",
      "emailaddr\n",
      "\n",
      "\n",
      "Handle email\n",
      " dollarnumber blah number number blah httpaddr    dude > anyone knows how much it costs to host a web portal ?\n",
      ">\n",
      "well, it depends on how many visitors you're expecting.\n",
      "this can be anywhere from less than number bucks a month to a couple of dollarnumber. \n",
      "you should checkout httpaddr or perhaps amazon ecnumber \n",
      "if youre running something big..\n",
      "\n",
      "to unsubscribe yourself from this mailing list, send an email to:\n",
      "emailaddr\n",
      "\n",
      "\n",
      "Handle $\n",
      " dollarnumber blah number number blah httpaddr    dude > anyone knows how much it costs to host a web portal ?\n",
      ">\n",
      "well, it depends on how many visitors you're expecting.\n",
      "this can be anywhere from less than number bucks a month to a couple of dollarnumber. \n",
      "you should checkout httpaddr or perhaps amazon ecnumber \n",
      "if youre running something big..\n",
      "\n",
      "to unsubscribe yourself from this mailing list, send an email to:\n",
      "emailaddr\n",
      "\n",
      "\n",
      "\n",
      "==== Processed Email ====\n",
      "\n",
      "\n"
     ]
    }
   ],
   "source": [
    "# Load Vocabulary\n",
    "vocabList = getVocabList()\n",
    "\n",
    "# Init return value\n",
    "word_indices = []\n",
    "\n",
    "# ========================== Preprocess Email ===========================\n",
    "\n",
    "# Find the Headers ( \\n\\n and remove )\n",
    "# Uncomment the following lines if you are working with raw emails with the\n",
    "# full headers\n",
    "\n",
    "# hdrstart = strfind(email_contents, ([char(10) char(10)]));\n",
    "# email_contents = email_contents(hdrstart(1):end);\n",
    "\n",
    "# Lower case\n",
    "email_contents = email_contents.lower()\n",
    "print(\"Lower case\\n\", email_contents)\n",
    "\n",
    "# Strip all HTML\n",
    "# Looks for any expression that starts with < and ends with > and replace\n",
    "# and does not have any < or > in the tag it with a space\n",
    "email_contents = regexprep(email_contents, r'<[^<>]+>', ' ')\n",
    "print(\"Strip All HTML\\n\", email_contents)\n",
    "\n",
    "# Handle Numbers\n",
    "# Look for one or more characters between 0-9\n",
    "email_contents = regexprep(email_contents, r'[0-9]+', 'number')\n",
    "print(\"Handle Numbers\\n\",email_contents)\n",
    "\n",
    "# Handle URLS\n",
    "# Look for strings starting with http:// or https://\n",
    "\n",
    "email_contents = regexprep(email_contents, r'(http|https)://[^\\s]*', 'httpaddr')\n",
    "print(\"Handle URLs\\n\", email_contents)\n",
    "\n",
    "# Handle Email Addresses\n",
    "# 3 Look for strings with @ in the middle\n",
    "email_contents = regexprep(email_contents, r'[^\\s]+@[^\\s]+', 'emailaddr');\n",
    "print(\"Handle email\\n\", email_contents)\n",
    "\n",
    "# Handle $ sign\n",
    "email_contents = regexprep(email_contents, r'[$]+', 'dollar');\n",
    "print(\"Handle $\\n\", email_contents)\n",
    "\n",
    "# Output the email to screen as well\n",
    "print('\\n==== Processed Email ====\\n\\n');\n",
    "\n",
    "# Process file\n",
    "l = 0\n"
   ]
  },
  {
   "cell_type": "code",
   "execution_count": 106,
   "metadata": {},
   "outputs": [
    {
     "data": {
      "text/plain": [
       "['dollarnumber',\n",
       " 'blah',\n",
       " 'number',\n",
       " 'number',\n",
       " 'blah',\n",
       " 'httpaddr',\n",
       " '',\n",
       " '',\n",
       " '',\n",
       " 'dude',\n",
       " '',\n",
       " '',\n",
       " 'anyone',\n",
       " 'knows',\n",
       " 'how',\n",
       " 'much',\n",
       " 'it',\n",
       " 'costs',\n",
       " 'to',\n",
       " 'host',\n",
       " 'a',\n",
       " 'web',\n",
       " 'portal',\n",
       " '',\n",
       " '',\n",
       " '',\n",
       " '',\n",
       " 'well',\n",
       " '',\n",
       " 'it',\n",
       " 'depends',\n",
       " 'on',\n",
       " 'how',\n",
       " 'many',\n",
       " 'visitors',\n",
       " \"you're\",\n",
       " 'expecting',\n",
       " '',\n",
       " 'this',\n",
       " 'can',\n",
       " 'be',\n",
       " 'anywhere',\n",
       " 'from',\n",
       " 'less',\n",
       " 'than',\n",
       " 'number',\n",
       " 'bucks',\n",
       " 'a',\n",
       " 'month',\n",
       " 'to',\n",
       " 'a',\n",
       " 'couple',\n",
       " 'of',\n",
       " 'dollarnumber',\n",
       " '',\n",
       " '',\n",
       " 'you',\n",
       " 'should',\n",
       " 'checkout',\n",
       " 'httpaddr',\n",
       " 'or',\n",
       " 'perhaps',\n",
       " 'amazon',\n",
       " 'ecnumber',\n",
       " '',\n",
       " 'if',\n",
       " 'youre',\n",
       " 'running',\n",
       " 'something',\n",
       " 'big',\n",
       " '',\n",
       " '',\n",
       " '',\n",
       " 'to',\n",
       " 'unsubscribe',\n",
       " 'yourself',\n",
       " 'from',\n",
       " 'this',\n",
       " 'mailing',\n",
       " 'list',\n",
       " '',\n",
       " 'send',\n",
       " 'an',\n",
       " 'email',\n",
       " 'to',\n",
       " '',\n",
       " 'emailaddr',\n",
       " '',\n",
       " '']"
      ]
     },
     "execution_count": 106,
     "metadata": {},
     "output_type": "execute_result"
    }
   ],
   "source": [
    "regex = re.compile(r'[][ @$/#.-:&*+=?!(){},''\">_<;%\\n\\t]', re.IGNORECASE)\n",
    "re.split(regex, email_contents)"
   ]
  },
  {
   "cell_type": "code",
   "execution_count": 94,
   "metadata": {},
   "outputs": [
    {
     "ename": "SyntaxError",
     "evalue": "invalid syntax (<ipython-input-94-16b14a71f01a>, line 4)",
     "output_type": "error",
     "traceback": [
      "\u001b[0;36m  File \u001b[0;32m\"<ipython-input-94-16b14a71f01a>\"\u001b[0;36m, line \u001b[0;32m4\u001b[0m\n\u001b[0;31m    while !isempty(email_contents):\u001b[0m\n\u001b[0m          ^\u001b[0m\n\u001b[0;31mSyntaxError\u001b[0m\u001b[0;31m:\u001b[0m invalid syntax\n"
     ]
    }
   ],
   "source": [
    "\n",
    "while len(email_contents)!=0:\n",
    "\n",
    "    # Tokenize and also get rid of any punctuation\n",
    "    [str, email_contents] = ...\n",
    "       strtok(email_contents, ...\n",
    "              [' @$/#.-:&*+=[]?!(){},''\">_<;%' char(10) char(13)]);\n",
    "\n",
    "    # Remove any non alphanumeric characters\n",
    "    str = regexprep(str, '[^a-zA-Z0-9]', '');\n",
    "\n",
    "    # Stem the word\n",
    "    # (the porterStemmer sometimes has issues, so we use a try catch block)\n",
    "    try str = porterStemmer(strtrim(str));\n",
    "    catch str = ''; continue;\n",
    "    end;\n",
    "\n",
    "    # Skip the word if it is too short\n",
    "    if length(str) < 1:\n",
    "       continue\n",
    "\n",
    "    wordindx = find(ismember(vocabList, str)==1);\n",
    "    if length(wordindx)==1\n",
    "      word_indices = [word_indices; wordindx];\n",
    "    end\n",
    "\n",
    "    # Print to screen, ensuring that the output lines are not too long\n",
    "    if (l + length(str) + 1) > 78:\n",
    "        print('\\n')\n",
    "        l = 0\n",
    "    print(f'{str}')\n",
    "    l = l + length(str) + 1\n",
    "\n",
    "return word_indices"
   ]
  },
  {
   "cell_type": "code",
   "execution_count": 145,
   "metadata": {},
   "outputs": [],
   "source": [
    "wordindx = np.argwhere(np.in1d(vocabList, 'how')).ravel()"
   ]
  },
  {
   "cell_type": "code",
   "execution_count": 146,
   "metadata": {},
   "outputs": [
    {
     "data": {
      "text/plain": [
       "((1,), (1899,))"
      ]
     },
     "execution_count": 146,
     "metadata": {},
     "output_type": "execute_result"
    }
   ],
   "source": [
    "wordindx.shape, vocabList.shape"
   ]
  },
  {
   "cell_type": "code",
   "execution_count": 157,
   "metadata": {},
   "outputs": [],
   "source": [
    "ps = PorterStemmer()"
   ]
  },
  {
   "cell_type": "code",
   "execution_count": 158,
   "metadata": {},
   "outputs": [
    {
     "name": "stdout",
     "output_type": "stream",
     "text": [
      "game\n",
      "game\n",
      "game\n",
      "game\n"
     ]
    }
   ],
   "source": [
    "for i in words: \n",
    "    print(ps.stem(i))\n"
   ]
  },
  {
   "cell_type": "code",
   "execution_count": 159,
   "metadata": {},
   "outputs": [
    {
     "data": {
      "text/plain": [
       "['game', 'gaming', 'gamed', 'games']"
      ]
     },
     "execution_count": 159,
     "metadata": {},
     "output_type": "execute_result"
    }
   ],
   "source": [
    "words"
   ]
  },
  {
   "cell_type": "code",
   "execution_count": 160,
   "metadata": {},
   "outputs": [
    {
     "data": {
      "text/plain": [
       "'expect'"
      ]
     },
     "execution_count": 160,
     "metadata": {},
     "output_type": "execute_result"
    }
   ],
   "source": [
    "ps.stem('expecting')"
   ]
  },
  {
   "cell_type": "code",
   "execution_count": null,
   "metadata": {},
   "outputs": [],
   "source": []
  }
 ],
 "metadata": {
  "kernelspec": {
   "display_name": "Python 3",
   "language": "python",
   "name": "python3"
  },
  "language_info": {
   "codemirror_mode": {
    "name": "ipython",
    "version": 3
   },
   "file_extension": ".py",
   "mimetype": "text/x-python",
   "name": "python",
   "nbconvert_exporter": "python",
   "pygments_lexer": "ipython3",
   "version": "3.6.6"
  }
 },
 "nbformat": 4,
 "nbformat_minor": 2
}
