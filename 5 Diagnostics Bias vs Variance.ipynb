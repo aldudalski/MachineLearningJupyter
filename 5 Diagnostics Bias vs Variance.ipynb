{
 "cells": [
  {
   "cell_type": "markdown",
   "metadata": {},
   "source": [
    "# Diagnostics: Bias vs. Variance"
   ]
  },
  {
   "cell_type": "code",
   "execution_count": 1,
   "metadata": {},
   "outputs": [],
   "source": [
    "# import key libraries (remember to pip install numpy etc. first)\n",
    "import numpy as np\n",
    "import sys\n",
    "import sklearn as sk\n",
    "import matplotlib.pyplot as plt\n",
    "%matplotlib inline"
   ]
  },
  {
   "cell_type": "markdown",
   "metadata": {},
   "source": [
    "## Part 1: Loading and Visualizing Data"
   ]
  },
  {
   "cell_type": "code",
   "execution_count": 2,
   "metadata": {},
   "outputs": [
    {
     "name": "stdout",
     "output_type": "stream",
     "text": [
      "Loading and Visualizing Data ...\n"
     ]
    }
   ],
   "source": [
    "# Load Training Data\n",
    "print('Loading and Visualizing Data ...')\n",
    "\n",
    "# import csv data\n",
    "PATH=\"./data/\"\n",
    "DATA=\"ex5data1.mat\"\n",
    "\n",
    "import scipy.io\n",
    "mat = scipy.io.loadmat(f'{PATH}{DATA}') # training data stored in arrays X, y\n",
    "X = mat['X']\n",
    "y = mat['y']\n",
    "Xtest = mat['Xtest']\n",
    "Xval = mat['Xval']\n",
    "ytest = mat['ytest']\n",
    "yval = mat['yval']"
   ]
  },
  {
   "cell_type": "code",
   "execution_count": 3,
   "metadata": {},
   "outputs": [
    {
     "data": {
      "image/png": "[encoded data removed]",
      "text/plain": [
       "<matplotlib.figure.Figure at 0x111912160>"
      ]
     },
     "metadata": {},
     "output_type": "display_data"
    }
   ],
   "source": [
    "# m = Number of examples\n",
    "m = X.shape[0]\n",
    "\n",
    "# Plot training data\n",
    "plt.plot(X, y, 'rx', markersize=10, linewidth=1.5);\n",
    "plt.xlabel('Change in water level (x)');\n",
    "plt.ylabel('Water flowing out of the dam (y)');\n",
    "\n",
    "plt.show()"
   ]
  },
  {
   "cell_type": "markdown",
   "metadata": {},
   "source": [
    "## Part 2: Regularized Linear Regression Cost"
   ]
  },
  {
   "cell_type": "code",
   "execution_count": 4,
   "metadata": {},
   "outputs": [],
   "source": [
    "def linear_reg_cost_function(X, y, theta, Lambda):\n",
    "#LINEARREGCOSTFUNCTION Compute cost and gradient for regularized linear\n",
    "#regression with multiple variables\n",
    "#   [J, grad] = LINEARREGCOSTFUNCTION(X, y, theta, lambda) computes the\n",
    "#   cost of using theta as the parameter for linear regression to fit the\n",
    "#   data points in X and y. Returns the cost in J and the gradient in grad\n",
    "\n",
    "    # Initialize some useful values\n",
    "    m = y.size # number of training examples\n",
    "\n",
    "    hypothesis = X@theta\n",
    "    cost = (hypothesis - y)**2\n",
    "    \n",
    "    J_nonreg = 1/(2*m)*np.sum(cost)\n",
    "    \n",
    "    regularization = 1/(2*m)*sum(Lambda * theta[1:,:]**2) # note need to drop first term\n",
    "    \n",
    "    J = J_nonreg + regularization\n",
    "\n",
    "    #print(f'linear_reg_cost_function theta: theta {theta.shape} \\n {theta} ')\n",
    "    \n",
    "    grad_nonreg = (np.sum((hypothesis - y)*X,axis=0)/m)\n",
    "    grad_nonreg = grad_nonreg.reshape((1,grad_nonreg.size)).T\n",
    "    #print(f'linear_reg_cost_function theta: grad nonreg {grad_nonreg.shape} \\n {grad_nonreg} ')\n",
    "    # [0; lambda.*(theta(2:end,:))]./m;\n",
    "    grad_regularization = np.r_[np.zeros((1,1)), Lambda*(theta[1:,:])]/m\n",
    "    #print(f'linear_reg_cost_function theta: grad reg {grad_regularization.shape} \\n {grad_regularization} ')\n",
    "    \n",
    "    grad = grad_nonreg + grad_regularization\n",
    "    #print(f'linear_reg_cost_function theta: grad {grad.shape} \\n {grad} ')\n",
    "\n",
    "    return J.ravel(), grad.ravel()\n"
   ]
  },
  {
   "cell_type": "code",
   "execution_count": 5,
   "metadata": {},
   "outputs": [
    {
     "name": "stdout",
     "output_type": "stream",
     "text": [
      "(2, 1)\n",
      "Cost at theta = [[1 1]]: 303.993192 \n",
      "(this value should be about 303.993192)\n"
     ]
    }
   ],
   "source": [
    "theta = np.matrix('[1 ; 1]').A\n",
    "print(theta.shape)\n",
    "J, g = linear_reg_cost_function(np.c_[np.ones((m, 1)), X], y, theta, 1)\n",
    "print(f'Cost at theta = {theta.T}: {J[0]:.6f} \\n(this value should be about 303.993192)')\n"
   ]
  },
  {
   "cell_type": "markdown",
   "metadata": {},
   "source": [
    "## Part 3: Regularized Linear Regression Gradient"
   ]
  },
  {
   "cell_type": "code",
   "execution_count": 6,
   "metadata": {},
   "outputs": [
    {
     "name": "stdout",
     "output_type": "stream",
     "text": [
      "Gradient at theta = [1 ; 1]:  [ -15.30301567  598.25074417] \n",
      " -15.303016; 598.250744 \n",
      "(this value should be about -15.303016; 598.250744)\n"
     ]
    }
   ],
   "source": [
    "theta = np.matrix('[1 ; 1]').A\n",
    "J, grad = linear_reg_cost_function(np.c_[np.ones((m, 1)), X], y, theta, 1)\n",
    "\n",
    "print(f'Gradient at theta = [1 ; 1]:  {grad} \\n {grad[0]:.6f}; {grad[1]:.6f} \\n(this value should be about -15.303016; 598.250744)')"
   ]
  },
  {
   "cell_type": "markdown",
   "metadata": {},
   "source": [
    "## Part 4: Train Linear Regression\n",
    "Once you have implemented the cost and gradient correctly, the <br/>\n",
    "trainLinearReg function will use your cost function to train <br/>\n",
    "regularized linear regression. <br/>\n",
    "<br/>\n",
    "Write Up Note: The data is non-linear, so this will not give a great fit. <br/>\n",
    "<br/>\n",
    "Train linear regression with lambda = 0"
   ]
  },
  {
   "cell_type": "code",
   "execution_count": 7,
   "metadata": {},
   "outputs": [],
   "source": [
    "import scipy.optimize as opt \n",
    "import sys\n",
    "\n",
    "callb_count = 0\n",
    "callb_disp = True\n",
    "\n",
    "def callb(x):\n",
    "    global callb_count\n",
    "    callb_count += 1\n",
    "    if callb_disp:\n",
    "        sys.stdout.write(f'{callb_count}, ')\n",
    "\n",
    "def costf(theta, X, y, Lambda):\n",
    "    theta = theta.reshape((theta.size,1))\n",
    "    return linear_reg_cost_function(X, y, theta, Lambda)[0]\n",
    "def gradf(theta, X, y, Lambda):\n",
    "    theta = theta.reshape((theta.size,1))\n",
    "    #print(f'gradf \\n theta {theta}')\n",
    "    ret = linear_reg_cost_function(X, y, theta, Lambda)[1]\n",
    "    #print(f'gradf \\n ret {ret}')\n",
    "    return ret"
   ]
  },
  {
   "cell_type": "code",
   "execution_count": 8,
   "metadata": {},
   "outputs": [],
   "source": [
    "def train_linear_reg(X, y, Lambda):\n",
    "#TRAINLINEARREG Trains linear regression given a dataset (X, y) and a\n",
    "#regularization parameter lambda\n",
    "#   [theta] = TRAINLINEARREG (X, y, lambda) trains linear regression using\n",
    "#   the dataset (X, y) and regularization parameter lambda. Returns the\n",
    "#   trained parameters theta.\n",
    "\n",
    "    # Initialize Theta\n",
    "    initial_theta = np.zeros((X.shape[1], 1)) \n",
    "    #print (f'train_linear_reg {initial_theta.shape} \\n {initial_theta}')\n",
    "    # Create \"short hand\" for the cost function to be minimized\n",
    "    #costFunction = @(t) linearRegCostFunction(X, y, t, lambda);\n",
    "\n",
    "    # Minimize using fmincg\n",
    "    #theta = fmincg(costFunction, initial_theta, options);\n",
    "\n",
    "    result = opt.fmin_tnc(func=costf, x0=initial_theta, fprime=gradf, args=(X, y, Lambda), disp=5, callback=callb)\n",
    "    return result[0]\n"
   ]
  },
  {
   "cell_type": "code",
   "execution_count": 9,
   "metadata": {},
   "outputs": [
    {
     "name": "stdout",
     "output_type": "stream",
     "text": [
      "(12, 2) (12, 1)\n",
      "1, 2, 3, 4, "
     ]
    },
    {
     "data": {
      "image/png": "[encoded data removed]",
      "text/plain": [
       "<matplotlib.figure.Figure at 0x11219df28>"
      ]
     },
     "metadata": {},
     "output_type": "display_data"
    }
   ],
   "source": [
    "Lambda = 0\n",
    "print (np.c_[np.ones((m, 1)), X].shape, y.shape)\n",
    "theta = train_linear_reg(np.c_[np.ones((m, 1)), X], y, Lambda)\n",
    "\n",
    "#  Plot fit over the data\n",
    "plt.plot(X, y, 'rx', markersize= 10, linewidth= 1.5)\n",
    "plt.xlabel('Change in water level (x)')\n",
    "plt.ylabel('Water flowing out of the dam (y)')\n",
    "#plt.hold(True)\n",
    "plt.plot(X, np.c_[np.ones((m, 1)), X]@theta, '--', linewidth=2)\n",
    "plt.show()\n",
    "#plt.hold(False)"
   ]
  },
  {
   "cell_type": "markdown",
   "metadata": {},
   "source": [
    "## Part 5: Learning Curve for Linear Regression"
   ]
  },
  {
   "cell_type": "code",
   "execution_count": 10,
   "metadata": {},
   "outputs": [],
   "source": [
    "def learning_curve(X, y, Xval, yval, Lambda):\n",
    "#LEARNINGCURVE Generates the train and cross validation set errors needed\n",
    "#to plot a learning curve\n",
    "#   [error_train, error_val] = ...\n",
    "#       LEARNINGCURVE(X, y, Xval, yval, lambda) returns the train and\n",
    "#       cross validation set errors for a learning curve. In particular,\n",
    "#       it returns two vectors of the same length - error_train and\n",
    "#       error_val. Then, error_train(i) contains the training error for\n",
    "#       i examples (and similarly for error_val(i)).\n",
    "#\n",
    "\n",
    "    # Number of training examples\n",
    "    m = X.shape[0]\n",
    "\n",
    "    error_train = np.zeros((m, 1))\n",
    "    error_val = np.zeros((m, 1))\n",
    "\n",
    "    for i in np.arange(m):\n",
    "        j=i+1\n",
    "        theta = train_linear_reg(X[:j,:], y[:j,:], Lambda)\n",
    "        theta = theta.reshape((theta.size,1))\n",
    "        #print (X[:j,:].shape, y[:j,:].shape, theta.shape)\n",
    "        error_train[i], grad = linear_reg_cost_function(X[:j,:], y[:j,:], theta, 0)\n",
    "        error_val[i], grad = linear_reg_cost_function(Xval, yval, theta, 0)\n",
    "        #print (Xval.shape, yval.shape, m)\n",
    "    \n",
    "    return error_train, error_val\n"
   ]
  },
  {
   "cell_type": "code",
   "execution_count": 11,
   "metadata": {},
   "outputs": [
    {
     "data": {
      "image/png": "[encoded data removed]",
      "text/plain": [
       "<matplotlib.figure.Figure at 0x1122194e0>"
      ]
     },
     "metadata": {},
     "output_type": "display_data"
    },
    {
     "name": "stdout",
     "output_type": "stream",
     "text": [
      "# Training Examples\tTrain Error\tCross Validation Error\n",
      "\n",
      "(12, 1) (12, 1)\n",
      "  \t0\t\t[  1.01769539e-18]\t[ 205.12109571]\n",
      "\n",
      "  \t1\t\t[  3.46657146e-09]\t[ 110.30264058]\n",
      "\n",
      "  \t2\t\t[ 3.28659505]\t[ 45.01023145]\n",
      "\n",
      "  \t3\t\t[ 2.84267769]\t[ 48.36891058]\n",
      "\n",
      "  \t4\t\t[ 13.15404881]\t[ 35.86516475]\n",
      "\n",
      "  \t5\t\t[ 19.44396251]\t[ 33.82996177]\n",
      "\n",
      "  \t6\t\t[ 20.09852166]\t[ 31.97098583]\n",
      "\n",
      "  \t7\t\t[ 18.1728587]\t[ 30.86244626]\n",
      "\n",
      "  \t8\t\t[ 22.60940542]\t[ 31.13599772]\n",
      "\n",
      "  \t9\t\t[ 23.26146159]\t[ 28.93620747]\n",
      "\n",
      "  \t10\t\t[ 24.31724959]\t[ 29.55143162]\n",
      "\n",
      "  \t11\t\t[ 22.3739065]\t[ 29.43381813]\n",
      "\n"
     ]
    }
   ],
   "source": [
    "Lambda = 0\n",
    "callb_count = 0# initialize count of learning iterations\n",
    "callb_disp = False\n",
    "error_train, error_val = learning_curve(np.c_[np.ones((m, 1)), X], y, np.c_[np.ones((Xval.shape[0], 1)), Xval], yval, Lambda)\n",
    "\n",
    "plt.plot(np.arange(m), error_train, np.arange(m), error_val)\n",
    "plt.title('Learning curve for linear regression')\n",
    "plt.legend(['Train', 'Cross Validation'])\n",
    "plt.xlabel('Number of training examples')\n",
    "plt.ylabel('Error')\n",
    "#plt.axis([0, 13, 0, 150])\n",
    "plt.show()\n",
    "\n",
    "print('# Training Examples\\tTrain Error\\tCross Validation Error\\n')\n",
    "print (error_train.shape, error_val.shape)\n",
    "for i in np.arange(m):\n",
    "    print(f'  \\t{i}\\t\\t{error_train[i]}\\t{error_val[i]}\\n')"
   ]
  },
  {
   "cell_type": "markdown",
   "metadata": {},
   "source": [
    "## Part 6: Feature Mapping for Polynomial Regression \n",
    "One solution to this is to use polynomial regression. Now complete polyFeatures to map each example into its powers"
   ]
  },
  {
   "cell_type": "code",
   "execution_count": 12,
   "metadata": {},
   "outputs": [],
   "source": [
    "def feature_normalize(X):\n",
    "#FEATURENORMALIZE Normalizes the features in X \n",
    "#   FEATURENORMALIZE(X) returns a normalized version of X where\n",
    "#   the mean value of each feature is 0 and the standard deviation\n",
    "#   is 1. This is often a good preprocessing step to do when\n",
    "#   working with learning algorithms.\n",
    "    \n",
    "    mu = np.mean(X, axis=0)\n",
    "    X_norm = X - mu\n",
    "    \n",
    "    sigma = np.std(X_norm, axis=0, ddof=1)\n",
    "    X_norm = X_norm / sigma\n",
    "    return X_norm, mu, sigma"
   ]
  },
  {
   "cell_type": "code",
   "execution_count": 13,
   "metadata": {},
   "outputs": [],
   "source": [
    "def poly_features(X, p):\n",
    "#POLYFEATURES Maps X (1D vector) into the p-th power\n",
    "#   [X_poly] = POLYFEATURES(X, p) takes a data matrix X (size m x 1) and\n",
    "#   maps each example into its polynomial features where\n",
    "#   X_poly(i, :) = [X(i) X(i).^2 X(i).^3 ...  X(i).^p];\n",
    "    \n",
    "    X_poly = X\n",
    "    \n",
    "    for i in np.arange(1,p): #=2:p\n",
    "        j=i+1\n",
    "        X_poly = np.c_[X_poly, X**j]\n",
    "    return X_poly"
   ]
  },
  {
   "cell_type": "code",
   "execution_count": 14,
   "metadata": {},
   "outputs": [
    {
     "name": "stdout",
     "output_type": "stream",
     "text": [
      "Normalized Training Example 1:\n",
      "\n",
      "  [ 1.         -0.36214078 -0.75508669  0.18222588 -0.70618991  0.30661792\n",
      " -0.59087767  0.3445158  -0.50848117]\n"
     ]
    }
   ],
   "source": [
    "p = 8\n",
    "\n",
    "# Map X onto Polynomial Features and Normalize\n",
    "X_poly = poly_features(X, p)\n",
    "X_poly, mu, sigma = feature_normalize(X_poly) # Normalize\n",
    "X_poly = np.c_[np.ones((m, 1)), X_poly] # Add Ones\n",
    "\n",
    "# Map X_poly_test and normalize (using mu and sigma)\n",
    "X_poly_test = poly_features(Xtest, p)\n",
    "X_poly_test = X_poly_test - mu #bsxfun(@minus, X_poly_test, mu);\n",
    "X_poly_test = X_poly_test / sigma #bsxfun(@rdivide, X_poly_test, sigma);\n",
    "X_poly_test = np.c_[np.ones((X_poly_test.shape[0], 1)), X_poly_test] # Add Ones\n",
    "\n",
    "# Map X_poly_val and normalize (using mu and sigma)\n",
    "X_poly_val = poly_features(Xval, p)\n",
    "X_poly_val = X_poly_val - mu #bsxfun(@minus, X_poly_val, mu);\n",
    "X_poly_val = X_poly_val / sigma #bsxfun(@rdivide, X_poly_val, sigma);\n",
    "X_poly_val = np.c_[np.ones((X_poly_val.shape[0], 1)), X_poly_val] # Add Ones\n",
    "\n",
    "print('Normalized Training Example 1:\\n')\n",
    "print(f'  {X_poly[0, :]}')"
   ]
  },
  {
   "cell_type": "markdown",
   "metadata": {},
   "source": [
    "## Part 7: Learning Curve for Polynomial Regression\n",
    "\n",
    "Now, you will get to experiment with polynomial regression with multiple values of lambda. The code below runs polynomial regression with lambda = 0. You should try running the code with different values of\n",
    "lambda to see how the fit and learning curve change."
   ]
  },
  {
   "cell_type": "code",
   "execution_count": 15,
   "metadata": {},
   "outputs": [],
   "source": [
    "def plot_fit(min_x, max_x, mu, sigma, theta, p):\n",
    "# PLOTFIT Plots a learned polynomial regression fit over an existing figure.\n",
    "#3Also works with linear regression.\n",
    "#   PLOTFIT(min_x, max_x, mu, sigma, theta, p) plots the learned polynomial\n",
    "#   fit with power p and feature normalization (mu, sigma).\n",
    "\n",
    "    #We plot a range slightly bigger than the min and max values to get\n",
    "    # an idea of how the fit will vary outside the range of the data points\n",
    "    x = np.arange(min_x-15,max_x+25, 0.05) #x = (min_x - 15: 0.05 : max_x + 25)'\n",
    "\n",
    "    # Map the X values \n",
    "    X_poly = poly_features(x, p)\n",
    "    X_poly = X_poly - mu #bsxfun(@minus, X_poly, mu)\n",
    "    X_poly = X_poly / sigma #bsxfun(@rdivide, X_poly, sigma)\n",
    "\n",
    "    # Add ones\n",
    "    X_poly = np.c_[np.ones((x.shape[0], 1)), X_poly]\n",
    "\n",
    "    # Plot\n",
    "    plt.plot(x, X_poly @ theta, '--', linewidth=2)\n"
   ]
  },
  {
   "cell_type": "code",
   "execution_count": 16,
   "metadata": {},
   "outputs": [
    {
     "name": "stdout",
     "output_type": "stream",
     "text": [
      "(12, 9) (12, 1)\n",
      "Polynomial Regression (lambda = 0.01\n",
      "# Training Examples\tTrain Error\tCross Validation Error\n",
      "\n",
      "  0, [  1.67293932e-13], [ 138.84901847]\n",
      "  1, [  3.22637390e-05], [ 143.53462541]\n",
      "  2, [ 0.00044135], [ 11.02126965]\n",
      "  3, [ 0.00275983], [ 7.81547141]\n",
      "  4, [ 0.00220476], [ 7.92957965]\n",
      "  5, [ 0.0217187], [ 10.17623743]\n",
      "  6, [ 0.08323201], [ 5.35893052]\n",
      "  7, [ 0.08784812], [ 4.82819588]\n",
      "  8, [ 0.23857312], [ 7.34182755]\n",
      "  9, [ 0.2370241], [ 7.45342583]\n",
      "  10, [ 0.21738341], [ 7.77612245]\n",
      "  11, [ 0.22155139], [ 16.92766647]\n"
     ]
    },
    {
     "data": {
      "image/png": "[encoded data removed]",
      "text/plain": [
       "<matplotlib.figure.Figure at 0x1122f65c0>"
      ]
     },
     "metadata": {},
     "output_type": "display_data"
    },
    {
     "data": {
      "image/png": "[encoded data removed]",
      "text/plain": [
       "<matplotlib.figure.Figure at 0x1123abdd8>"
      ]
     },
     "metadata": {},
     "output_type": "display_data"
    }
   ],
   "source": [
    "Lambda = 0.01\n",
    "print(X_poly.shape, y.shape)\n",
    "theta = train_linear_reg(X_poly, y, Lambda)\n",
    "\n",
    "# Plot training data and fit\n",
    "plt.figure(1)\n",
    "plt.plot(X, y, 'rx', markersize=10, linewidth=1.5)\n",
    "plot_fit(min(X), max(X), mu, sigma, theta, p)\n",
    "plt.xlabel('Change in water level (x)')\n",
    "plt.ylabel('Water flowing out of the dam (y)')\n",
    "plt.title (f'Polynomial Regression Fit (lambda = {Lambda}')\n",
    "\n",
    "plt.figure(2)\n",
    "error_train, error_val = learning_curve(X_poly, y, X_poly_val, yval, Lambda)\n",
    "plt.plot(np.arange(m), error_train, np.arange(m), error_val)\n",
    "\n",
    "plt.title(f'Polynomial Regression Learning Curve (lambda = {Lambda}')\n",
    "plt.xlabel('Number of training examples')\n",
    "plt.ylabel('Error')\n",
    "#plt.axis([0 13 0 100])\n",
    "plt.legend(('Train', 'Cross Validation'))\n",
    "\n",
    "print(f'Polynomial Regression (lambda = {Lambda}')\n",
    "print('# Training Examples\\tTrain Error\\tCross Validation Error\\n');\n",
    "for i in np.arange(m):\n",
    "    print(f'  {i}, {error_train[i]}, {error_val[i]}')"
   ]
  },
  {
   "cell_type": "markdown",
   "metadata": {},
   "source": [
    "## Part 8: Validation for Selecting Lambda "
   ]
  },
  {
   "cell_type": "code",
   "execution_count": 22,
   "metadata": {},
   "outputs": [],
   "source": [
    "def validation_curve(X, y, Xval, yval):\n",
    "#function [lambda_vec, error_train, error_val] = validationCurve(X, y, Xval, yval)\n",
    "#VALIDATIONCURVE Generate the train and validation errors needed to\n",
    "#plot a validation curve that we can use to select lambda\n",
    "#   [lambda_vec, error_train, error_val] = ...\n",
    "#       VALIDATIONCURVE(X, y, Xval, yval) returns the train\n",
    "#       and validation errors (in error_train, error_val)\n",
    "#       for different values of lambda. You are given the training set (X,\n",
    "#       y) and validation set (Xval, yval).\n",
    "\n",
    "    # Selected values of lambda (you should not change this)\n",
    "    lambda_vec = np.matrix('[0 0.001 0.003 0.01 0.03 0.1 0.3 1 3 10]').T.A\n",
    "    error_train, error_val = np.zeros(lambda_vec.size), np.zeros(lambda_vec.size)\n",
    "    for i in np.arange(lambda_vec.size):\n",
    "        Lambda = lambda_vec[i]\n",
    "        theta = train_linear_reg(X, y, Lambda)\n",
    "        theta = theta.reshape((theta.size,1))\n",
    "        # print(f'{theta.shape}\\n{theta}')\n",
    "        error_train[i], grad = linear_reg_cost_function(X, y, theta, 0) # note you test error without lambda\n",
    "        error_val[i], grad = linear_reg_cost_function(Xval, yval, theta, 0) # note you test error without lambda\n",
    "    return lambda_vec, error_train, error_val"
   ]
  },
  {
   "cell_type": "code",
   "execution_count": 24,
   "metadata": {},
   "outputs": [
    {
     "name": "stdout",
     "output_type": "stream",
     "text": [
      "lambda\t\tTrain Error\tValidation Error\n",
      "\n",
      " [ 0.]\t 0.04191498964866776\t 21.16953492692328\n",
      " [ 0.001]\t 0.11468881285734314\t 10.14741971167643\n",
      " [ 0.003]\t 0.17098130712650395\t 16.29846453475378\n",
      " [ 0.01]\t 0.22155138824497844\t 16.92766646719461\n",
      " [ 0.03]\t 0.28184136187376807\t 12.83171283435356\n",
      " [ 0.1]\t 0.45931702413902775\t 7.587003954719044\n",
      " [ 0.3]\t 0.9217780556126689\t 4.636779068237207\n",
      " [ 1.]\t 2.0762000345266722\t 4.260601228097113\n",
      " [ 3.]\t 4.901370103004489\t 3.8229128766929588\n",
      " [ 10.]\t 16.09227268911343\t 9.94555420986328\n"
     ]
    },
    {
     "data": {
      "image/png": "[encoded data removed]",
      "text/plain": [
       "<matplotlib.figure.Figure at 0x112489898>"
      ]
     },
     "metadata": {},
     "output_type": "display_data"
    }
   ],
   "source": [
    "lambda_vec, error_train, error_val = validation_curve(X_poly, y, X_poly_val, yval)\n",
    "\n",
    "plt.plot(lambda_vec, error_train, lambda_vec, error_val);\n",
    "plt.legend(('Train', 'Cross Validation'))\n",
    "plt.xlabel('lambda')\n",
    "plt.ylabel('Error')\n",
    "\n",
    "print('lambda\\t\\tTrain Error\\tValidation Error\\n');\n",
    "for i in np.arange(lambda_vec.size):\n",
    "    print(f' {lambda_vec[i]}\\t {error_train[i]}\\t {error_val[i]}')"
   ]
  },
  {
   "cell_type": "code",
   "execution_count": null,
   "metadata": {},
   "outputs": [],
   "source": []
  }
 ],
 "metadata": {
  "kernelspec": {
   "display_name": "Python 3",
   "language": "python",
   "name": "python3"
  },
  "language_info": {
   "codemirror_mode": {
    "name": "ipython",
    "version": 3
   },
   "file_extension": ".py",
   "mimetype": "text/x-python",
   "name": "python",
   "nbconvert_exporter": "python",
   "pygments_lexer": "ipython3",
   "version": "3.6.4"
  }
 },
 "nbformat": 4,
 "nbformat_minor": 2
}
