{
 "cells": [
  {
   "cell_type": "markdown",
   "metadata": {},
   "source": [
    "# Logistic Regression (including Regularization)"
   ]
  },
  {
   "cell_type": "markdown",
   "metadata": {},
   "source": [
    "Recreation of Andrew Ng Octave course \n",
    "using Python Jupyter Notebook by Alek Zdziarski"
   ]
  },
  {
   "cell_type": "code",
   "execution_count": 3,
   "metadata": {},
   "outputs": [],
   "source": [
    "# import key libraries (remember to pip install numpy etc. first)\n",
    "import numpy as np\n",
    "import sys\n",
    "import sklearn as sk\n",
    "import matplotlib.pyplot as plt\n",
    "%matplotlib inline"
   ]
  },
  {
   "cell_type": "code",
   "execution_count": 4,
   "metadata": {},
   "outputs": [
    {
     "data": {
      "text/plain": [
       "(100, 3)"
      ]
     },
     "execution_count": 4,
     "metadata": {},
     "output_type": "execute_result"
    }
   ],
   "source": [
    "# import csv data\n",
    "PATH=\"/Users/alek/OneDrive/Projects/Courses/Machine Learning Andrew Ng, Stanford, Coursera/ex2 Logistic Regression/ex2/\"\n",
    "DATA1=\"ex2data1.txt\"\n",
    "DATA2=\"ex2data2.txt\"\n",
    "from numpy import genfromtxt\n",
    "data1 = genfromtxt(f'{PATH}{DATA1}', delimiter=',')\n",
    "data1.shape"
   ]
  },
  {
   "cell_type": "code",
   "execution_count": 5,
   "metadata": {},
   "outputs": [
    {
     "data": {
      "text/plain": [
       "((100, 2), (100, 1))"
      ]
     },
     "execution_count": 5,
     "metadata": {},
     "output_type": "execute_result"
    }
   ],
   "source": [
    "X = data1[:, [0, 1]]\n",
    "y = data1[:, [2]]\n",
    "X.shape, y.shape"
   ]
  },
  {
   "cell_type": "markdown",
   "metadata": {},
   "source": [
    "## Part 1: Plotting"
   ]
  },
  {
   "cell_type": "code",
   "execution_count": 6,
   "metadata": {},
   "outputs": [],
   "source": [
    "def plot_data(X, y):\n",
    "    one_rows = np.where(y==1)\n",
    "    zero_rows = np.where(y==0)\n",
    "    \n",
    "    plt.plot(X[zero_rows[0],0],X[zero_rows[0],1],'bo', markersize=6, markerfacecolor='b', label='Not Admitted')\n",
    "    plt.plot(X[one_rows[0],0],X[one_rows[0],1],'r+', markersize=9, linewidth=2, label = 'Admitted')\n",
    "    plt.xlabel('Exam 1 score')\n",
    "    plt.ylabel('Exam 2 score')\n",
    "    #plt.legend(['zero results - not admitted', 'one results - admitted'], loc='lower left')\n",
    "    plt.legend( bbox_to_anchor=(1, 0.5)) # this got it outside the graph\n",
    "\n",
    "    plt.grid(which='both')\n",
    "    "
   ]
  },
  {
   "cell_type": "code",
   "execution_count": 7,
   "metadata": {},
   "outputs": [
    {
     "data": {
      "image/png": "[encoded data removed]",
      "text/plain": [
       "<matplotlib.figure.Figure at 0x1062a3fd0>"
      ]
     },
     "metadata": {},
     "output_type": "display_data"
    }
   ],
   "source": [
    "plot_data(X,y)\n",
    "plt.show()"
   ]
  },
  {
   "cell_type": "markdown",
   "metadata": {},
   "source": [
    "# Part 2: Compute Cost and Gradient "
   ]
  },
  {
   "cell_type": "code",
   "execution_count": 8,
   "metadata": {},
   "outputs": [
    {
     "data": {
      "text/plain": [
       "(100, 2)"
      ]
     },
     "execution_count": 8,
     "metadata": {},
     "output_type": "execute_result"
    }
   ],
   "source": [
    "(m,n) = X.shape\n",
    "m, n"
   ]
  },
  {
   "cell_type": "code",
   "execution_count": 9,
   "metadata": {},
   "outputs": [],
   "source": [
    "# Add intercept term to x and X_test\n",
    "ones=np.ones((m,1))\n",
    "X = np.concatenate((ones, X), axis=1)"
   ]
  },
  {
   "cell_type": "code",
   "execution_count": 10,
   "metadata": {},
   "outputs": [
    {
     "data": {
      "text/plain": [
       "array([[ 0.],\n",
       "       [ 0.],\n",
       "       [ 0.]])"
      ]
     },
     "execution_count": 10,
     "metadata": {},
     "output_type": "execute_result"
    }
   ],
   "source": [
    "initial_theta = np.zeros((n + 1, 1))\n",
    "initial_theta"
   ]
  },
  {
   "cell_type": "code",
   "execution_count": 11,
   "metadata": {},
   "outputs": [],
   "source": [
    "def sigmoid(z):\n",
    "    return 1/(1+ np.exp(-z))"
   ]
  },
  {
   "cell_type": "code",
   "execution_count": 12,
   "metadata": {},
   "outputs": [],
   "source": [
    "def cost_function(theta, X, y):\n",
    "    m = y.size\n",
    "    polynomial = X@theta # going straight for all xs rather than x^(i) one by one\n",
    "    hypothesis = sigmoid(polynomial)\n",
    "    cost = -y*np.log(hypothesis)-(1-y)*np.log(1-hypothesis)\n",
    "    J=np.mean(cost)\n",
    "    grad = X.T@(hypothesis-y)/m\n",
    "    #grad = grad.ravel();\n",
    "    return J, grad\n"
   ]
  },
  {
   "cell_type": "code",
   "execution_count": 13,
   "metadata": {},
   "outputs": [
    {
     "name": "stdout",
     "output_type": "stream",
     "text": [
      "Cost at initial theta (zeros): 0.6931471805599453\n",
      "Expected cost (approx): 0.693\n",
      "Gradient at initial theta (zeros):\n",
      " [[ -0.1       ]\n",
      " [-12.00921659]\n",
      " [-11.26284221]]\n",
      "Expected gradients (approx):\n",
      " -0.1000\n",
      " -12.0092\n",
      " -11.2628\n",
      "\n"
     ]
    }
   ],
   "source": [
    "# Compute and display initial cost and gradient\n",
    "cost, grad = cost_function(initial_theta, X, y)\n",
    "\n",
    "print(f'Cost at initial theta (zeros): {cost}')\n",
    "print(f'Expected cost (approx): 0.693')\n",
    "print(f'Gradient at initial theta (zeros):')\n",
    "print(f' {grad}')\n",
    "print(f'Expected gradients (approx):\\n -0.1000\\n -12.0092\\n -11.2628\\n')\n"
   ]
  },
  {
   "cell_type": "code",
   "execution_count": 14,
   "metadata": {},
   "outputs": [],
   "source": [
    "test_theta = np.array([[-24], [0.2], [0.2]])\n",
    "[cost, grad] = cost_function(test_theta, X, y)"
   ]
  },
  {
   "cell_type": "code",
   "execution_count": 15,
   "metadata": {},
   "outputs": [
    {
     "name": "stdout",
     "output_type": "stream",
     "text": [
      "\n",
      "Cost at test theta:  0.218330193827\n",
      "Expected cost (approx): 0.218\n",
      "\n",
      "Gradient at test theta:\n",
      "[[ 0.04290299]\n",
      " [ 2.56623412]\n",
      " [ 2.64679737]]\n",
      "Expected gradients (approx):\n",
      " 0.043\n",
      " 2.566\n",
      " 2.647\n",
      "\n"
     ]
    }
   ],
   "source": [
    "print('\\nCost at test theta: ', cost)\n",
    "print('Expected cost (approx): 0.218\\n')\n",
    "print('Gradient at test theta:')\n",
    "print(grad)\n",
    "print('Expected gradients (approx):\\n 0.043\\n 2.566\\n 2.647\\n')"
   ]
  },
  {
   "cell_type": "markdown",
   "metadata": {},
   "source": [
    "# Part 3: Optimizing using fmin_tnc (fminunc on octave)"
   ]
  },
  {
   "cell_type": "code",
   "execution_count": 16,
   "metadata": {},
   "outputs": [],
   "source": [
    "import scipy.optimize as opt  "
   ]
  },
  {
   "cell_type": "code",
   "execution_count": 17,
   "metadata": {},
   "outputs": [],
   "source": [
    "#result = opt.fmin_tnc(cost_function, x0=initial_theta, args=(X, y))\n",
    "def costf(theta, X, y):\n",
    "    theta = theta.reshape((n+1,1))\n",
    "    return cost_function(theta, X, y)[0]\n",
    "def gradf(theta, X, y):\n",
    "    theta = theta.reshape((n+1,1))\n",
    "    #print(f'{theta} {theta.shape}')\n",
    "    ret = cost_function(theta, X, y)[1]\n",
    "    #print(f'{ret.shape} ret')\n",
    "    return ret\n",
    "#print(initial_theta)\n",
    "result = opt.fmin_tnc(func=costf, x0=initial_theta, fprime=gradf, args=(X, y))\n",
    "#result = opt.minimize(fun=costf, jac=gradf, x0=initial_theta, args=(X, y),method = 'TNC')"
   ]
  },
  {
   "cell_type": "code",
   "execution_count": 18,
   "metadata": {},
   "outputs": [
    {
     "name": "stdout",
     "output_type": "stream",
     "text": [
      "Cost at theta found by fminunc equivalent fmin_tnc: %f\n",
      " 0.203497701589\n",
      "Expected cost (approx): 0.203\n",
      "\n",
      "theta: \n",
      "\n",
      "[-25.16131863   0.20623159   0.20147149]\n",
      "Expected theta (approx):\n",
      "\n",
      " -25.161\n",
      " 0.206\n",
      " 0.201\n",
      "\n"
     ]
    }
   ],
   "source": [
    "theta = result[0]\n",
    "cost = costf(theta, X, y) \n",
    "\n",
    "print('Cost at theta found by fminunc equivalent fmin_tnc: %f\\n', cost);\n",
    "print('Expected cost (approx): 0.203\\n');\n",
    "print('theta: \\n');\n",
    "print(theta);\n",
    "print('Expected theta (approx):\\n');\n",
    "print(' -25.161\\n 0.206\\n 0.201\\n');"
   ]
  },
  {
   "cell_type": "code",
   "execution_count": 19,
   "metadata": {},
   "outputs": [
    {
     "name": "stdout",
     "output_type": "stream",
     "text": [
      "-25.1613186291\n"
     ]
    },
    {
     "data": {
      "image/png": "[encoded data removed]",
      "text/plain": [
       "<matplotlib.figure.Figure at 0x1066970b8>"
      ]
     },
     "metadata": {},
     "output_type": "display_data"
    }
   ],
   "source": [
    "def plot_decision_boundary(theta, X, y):    \n",
    "        # Only need 2 points to define a line, so choose two endpoints\n",
    "        plot_x = np.array([min(X[:,1])-2,  max(X[:,1])+2])\n",
    "        #plot_x = [min(X(:,2))-2,  max(X(:,2))+2]\n",
    "        # Calculate the decision boundary line\n",
    "        #plot_y = (-1./theta(3)).*(theta(2).*plot_x + theta(1));\n",
    "        \n",
    "        plot_y = (-1/theta[2])*(theta[1]*plot_x + theta[0])\n",
    "    \n",
    "        # Plot, and adjust axes for better viewing\n",
    "        plt.plot(plot_x, plot_y, label='Decision Boundary')\n",
    "        plt.axis([30, 100, 30, 100])\n",
    "\n",
    "        \n",
    "print(theta[0])\n",
    "plot_decision_boundary(theta, X, y)\n",
    "plot_data(X[:,1:3],y)\n",
    "plt.show()"
   ]
  },
  {
   "cell_type": "markdown",
   "metadata": {},
   "source": [
    "## Part 4: Predict and Accuracies"
   ]
  },
  {
   "cell_type": "code",
   "execution_count": 20,
   "metadata": {},
   "outputs": [],
   "source": [
    "def predict(theta, X):\n",
    "# PREDICT Predict whether the label is 0 or 1 using learned logistic\n",
    "# regression parameters theta\n",
    "#    p = PREDICT(theta, X) computes the predictions for X using a\n",
    "#    threshold at 0.5 (i.e., if sigmoid(theta'*x) >= 0.5, predict 1)\n",
    "\n",
    "    m=X.shape[0] # Number of training examples\n",
    "    \n",
    "\n",
    "    polynomial = X@theta # going straight for all xs rather than x^(i) one by one\n",
    "    hypothesis = sigmoid(polynomial)\n",
    "    return hypothesis>=0.5"
   ]
  },
  {
   "cell_type": "code",
   "execution_count": 21,
   "metadata": {},
   "outputs": [
    {
     "name": "stdout",
     "output_type": "stream",
     "text": [
      "For a student with scores 45 and 85, we predict an admission probability of  [ 0.77629062]\n",
      "Expected value: 0.775 +/- 0.002\n",
      "\n",
      "(100, 3) (3,)\n",
      "Train Accuracy: %f\n",
      " 89.0\n",
      "Expected accuracy (approx): 89.0\n",
      "\n",
      "\n",
      "\n"
     ]
    }
   ],
   "source": [
    "prob = sigmoid(np.array([[1,45,85]]) @ theta)\n",
    "print('For a student with scores 45 and 85, we predict an admission probability of ', prob);\n",
    "print('Expected value: 0.775 +/- 0.002\\n');\n",
    "\n",
    "# Compute accuracy on our training set\n",
    "print (X.shape, theta.shape)\n",
    "p = predict(np.reshape(theta,(3,1)), X)\n",
    "\n",
    "print('Train Accuracy: %f\\n', np.mean((p == y)) * 100);\n",
    "print('Expected accuracy (approx): 89.0\\n');\n",
    "print('\\n');"
   ]
  },
  {
   "cell_type": "markdown",
   "metadata": {},
   "source": [
    "## Logistic Regression with Regularization"
   ]
  },
  {
   "cell_type": "markdown",
   "metadata": {},
   "source": [
    "### Part 1: Regularized Logistic Regression"
   ]
  },
  {
   "cell_type": "code",
   "execution_count": 22,
   "metadata": {},
   "outputs": [
    {
     "data": {
      "text/plain": [
       "(118, 3)"
      ]
     },
     "execution_count": 22,
     "metadata": {},
     "output_type": "execute_result"
    }
   ],
   "source": [
    "data2 = genfromtxt(f'{PATH}{DATA2}', delimiter=',')\n",
    "data2.shape"
   ]
  },
  {
   "cell_type": "code",
   "execution_count": 23,
   "metadata": {},
   "outputs": [
    {
     "data": {
      "text/plain": [
       "((118, 2), (118, 1))"
      ]
     },
     "execution_count": 23,
     "metadata": {},
     "output_type": "execute_result"
    }
   ],
   "source": [
    "X = data2[:, [0, 1]]\n",
    "y = data2[:, [2]]\n",
    "X.shape, y.shape"
   ]
  },
  {
   "cell_type": "code",
   "execution_count": 24,
   "metadata": {},
   "outputs": [
    {
     "data": {
      "image/png": "[encoded data removed]",
      "text/plain": [
       "<matplotlib.figure.Figure at 0x106661f60>"
      ]
     },
     "metadata": {},
     "output_type": "display_data"
    }
   ],
   "source": [
    "plot_data(X,y)\n",
    "plt.xlabel('Microchip Test 1')\n",
    "plt.ylabel('Microchip Test 2')\n",
    "plt.legend(['y=1','y=0'])\n",
    "plt.show()"
   ]
  },
  {
   "cell_type": "code",
   "execution_count": 25,
   "metadata": {},
   "outputs": [],
   "source": [
    "def map_feature(X1, X2, degree=6):\n",
    "    \n",
    "    #    function out = mapFeature(X1, X2)\n",
    "    # MAPFEATURE Feature mapping function to polynomial features\n",
    "    #\n",
    "    #   MAPFEATURE(X1, X2) maps the two input features\n",
    "    #   to quadratic features used in the regularization exercise.\n",
    "    #\n",
    "    #   Returns a new feature array with more features, comprising of \n",
    "    #   X1, X2, X1.^2, X2.^2, X1*X2, X1*X2.^2, etc..\n",
    "    #\n",
    "    #   Inputs X1, X2 must be the same size\n",
    "    \n",
    "    out = np.ones((X1.shape[0],1))\n",
    "    for i in range(degree+1):\n",
    "        for j in range(i+1):\n",
    "            if (not(i==0 and j==0)):\n",
    "                out = np.c_[out,(X1**(i-j))*X2**j]\n",
    "    return out"
   ]
  },
  {
   "cell_type": "code",
   "execution_count": 26,
   "metadata": {},
   "outputs": [],
   "source": [
    "X = map_feature(X[:,0], X[:,1])\n",
    "\n",
    "# Initialize fitting parameters\n",
    "initial_theta = np.zeros((X.shape[1], 1));\n",
    "\n",
    "# Set regularization parameter lambda to 1\n",
    "Lambda = 10"
   ]
  },
  {
   "cell_type": "code",
   "execution_count": null,
   "metadata": {},
   "outputs": [],
   "source": []
  },
  {
   "cell_type": "code",
   "execution_count": 27,
   "metadata": {},
   "outputs": [],
   "source": [
    "def cost_function_reg(theta, X, y, Lambda):\n",
    "    m = y.size\n",
    "    polynomial = X@theta # going straight for all xs rather than x^(i) one by one\n",
    "    hypothesis = sigmoid(polynomial)\n",
    "    cost = -y*np.log(hypothesis)-(1-y)*np.log(1-hypothesis)\n",
    "    #regularization\n",
    "    n=theta.size-1 #not sure why this is -1 as I work through ex 3 so deleted there but left here as I seemed to be happy with it \n",
    "    regularization=Lambda/2/m*np.sum(theta[1:n]**2) #remember that we dont regularize theta_0 which is 1 indexed in octave\n",
    "\n",
    "    J=np.mean(cost)+regularization\n",
    "    \n",
    "    grad = X.T@(hypothesis-y)/m\n",
    "    grad_regularizations = Lambda/m*theta\n",
    "    grad_regularizations[0] = 0 # remember we don't regularize our theta_0\n",
    "    grad = grad + grad_regularizations\n",
    "    \n",
    "    return J, grad"
   ]
  },
  {
   "cell_type": "code",
   "execution_count": 28,
   "metadata": {},
   "outputs": [],
   "source": [
    "cost, grad = cost_function_reg(initial_theta, X, y, Lambda)"
   ]
  },
  {
   "cell_type": "code",
   "execution_count": 29,
   "metadata": {},
   "outputs": [
    {
     "name": "stdout",
     "output_type": "stream",
     "text": [
      "Cost at initial theta (zeros): %f\n",
      " 0.69314718056\n",
      "Expected cost (approx): 0.693\n",
      "\n",
      "Gradient at initial theta (zeros) - first five values only:\n",
      "\n",
      "[[  8.47457627e-03]\n",
      " [  1.87880932e-02]\n",
      " [  7.77711864e-05]\n",
      " [  5.03446395e-02]\n",
      " [  1.15013308e-02]]\n",
      "Expected gradients (approx) - first five values only:\n",
      "\n",
      " 0.0085\n",
      " 0.0188\n",
      " 0.0001\n",
      " 0.0503\n",
      " 0.0115\n",
      "\n",
      "\n",
      "Program paused. Press enter to continue.\n",
      "\n"
     ]
    }
   ],
   "source": [
    "print('Cost at initial theta (zeros): %f\\n', cost);\n",
    "print('Expected cost (approx): 0.693\\n');\n",
    "print('Gradient at initial theta (zeros) - first five values only:\\n');\n",
    "print(f'{grad[0:5]}');\n",
    "print('Expected gradients (approx) - first five values only:\\n');\n",
    "print(' 0.0085\\n 0.0188\\n 0.0001\\n 0.0503\\n 0.0115\\n');\n",
    "print('\\nProgram paused. Press enter to continue.\\n');"
   ]
  },
  {
   "cell_type": "code",
   "execution_count": 30,
   "metadata": {},
   "outputs": [],
   "source": [
    "test_theta = np.ones((X.shape[1],1))\n",
    "[cost, grad] = cost_function_reg(test_theta, X, y, 10);"
   ]
  },
  {
   "cell_type": "code",
   "execution_count": 31,
   "metadata": {},
   "outputs": [
    {
     "name": "stdout",
     "output_type": "stream",
     "text": [
      "\n",
      "Cost at test theta (with lambda = 10): \n",
      " 3.12213645026\n",
      "Expected cost (approx): 3.16\n",
      "\n",
      "Gradient at test theta - first five values only:\n",
      "\n",
      "\n",
      " [[ 0.34604507]\n",
      " [ 0.16135192]\n",
      " [ 0.19479576]\n",
      " [ 0.22686278]\n",
      " [ 0.09218568]]\n",
      "Expected gradients (approx) - first five values only:\n",
      "\n",
      " 0.3460\n",
      " 0.1614\n",
      " 0.1948\n",
      " 0.2269\n",
      " 0.0922\n",
      "\n",
      "\n",
      "Program paused. Press enter to continue.\n",
      "\n"
     ]
    }
   ],
   "source": [
    "print('\\nCost at test theta (with lambda = 10): \\n', cost);\n",
    "print('Expected cost (approx): 3.16\\n');\n",
    "print('Gradient at test theta - first five values only:\\n');\n",
    "print('\\n', grad[0:5]);\n",
    "print('Expected gradients (approx) - first five values only:\\n');\n",
    "print(' 0.3460\\n 0.1614\\n 0.1948\\n 0.2269\\n 0.0922\\n');\n",
    "\n",
    "print('\\nProgram paused. Press enter to continue.\\n');"
   ]
  },
  {
   "cell_type": "markdown",
   "metadata": {},
   "source": [
    "### Part 2: Regularization and Accuracies"
   ]
  },
  {
   "cell_type": "code",
   "execution_count": 50,
   "metadata": {},
   "outputs": [
    {
     "data": {
      "text/plain": [
       "(28, 1)"
      ]
     },
     "execution_count": 50,
     "metadata": {},
     "output_type": "execute_result"
    }
   ],
   "source": [
    "# Initialize fitting parameters\n",
    "n = X.shape[1]\n",
    "initial_theta = np.zeros((n, 1))\n",
    "\n",
    "# Set regularization parameter lambda to 1 (you should vary this)\n",
    "Lambda = 1\n",
    "\n",
    "def costf(theta, X, y):\n",
    "    theta = theta.reshape((n,1))\n",
    "    return cost_function_reg(theta, X, y, Lambda)[0]\n",
    "def gradf(theta, X, y):\n",
    "    theta = theta.reshape((n,1))\n",
    "    ret = cost_function_reg(theta, X, y, Lambda)[1]\n",
    "    return ret\n",
    "\n",
    "result = opt.fmin_tnc(func=costf, x0=initial_theta, fprime=gradf, args=(X, y))\n",
    "theta = result[0].reshape(result[0].size,1)\n",
    "cost = costf(theta, X, y) \n",
    "theta.shape\n"
   ]
  },
  {
   "cell_type": "code",
   "execution_count": 51,
   "metadata": {},
   "outputs": [],
   "source": [
    "def plot_decision_boundary_reg(theta, X, y):\n",
    "    #% Here is the grid range\n",
    "    u = np.linspace(-1, 1.5, 50).reshape(1,50)\n",
    "    v = np.linspace(-1, 1.5, 50).reshape(1,50)\n",
    "\n",
    "    z = np.zeros((u.size, v.size))\n",
    "    #% Evaluate z = theta*x over the grid\n",
    "    for i in range (u.size):\n",
    "        for j in range (v.size):\n",
    "            z[i,j] = map_feature(u[0][i].reshape(1,1), v[0][j].reshape(1,1))@theta\n",
    "            \n",
    "    z = z.T # important to transpose z before calling contour\n",
    "\n",
    "    # Plot z = 0\n",
    "    # Notice you need to specify the range 0\n",
    "    print (\"u, v, z\", u.ravel().shape, v.ravel().shape, z.shape)\n",
    "    plt.contour(v.ravel(), u.ravel(), z, 0)"
   ]
  },
  {
   "cell_type": "code",
   "execution_count": 52,
   "metadata": {},
   "outputs": [
    {
     "name": "stdout",
     "output_type": "stream",
     "text": [
      "u, v, z (50,) (50,) (50, 50)\n"
     ]
    },
    {
     "data": {
      "image/png": "[encoded data removed]",
      "text/plain": [
       "<matplotlib.figure.Figure at 0x10713e9b0>"
      ]
     },
     "metadata": {},
     "output_type": "display_data"
    }
   ],
   "source": [
    "# Plot Boundary\n",
    "plot_data(X[:,1:3],y)\n",
    "plt.xlabel('Microchip Test 1')\n",
    "plt.ylabel('Microchip Test 2')\n",
    "plt.legend(['y=1','y=0'])\n",
    "plot_decision_boundary_reg(theta, X, y);\n",
    "plt.title(f'lambda = {Lambda}')\n",
    "plt.show()"
   ]
  },
  {
   "cell_type": "code",
   "execution_count": null,
   "metadata": {},
   "outputs": [],
   "source": []
  }
 ],
 "metadata": {
  "kernelspec": {
   "display_name": "Python 3",
   "language": "python",
   "name": "python3"
  },
  "language_info": {
   "codemirror_mode": {
    "name": "ipython",
    "version": 3
   },
   "file_extension": ".py",
   "mimetype": "text/x-python",
   "name": "python",
   "nbconvert_exporter": "python",
   "pygments_lexer": "ipython3",
   "version": "3.6.4"
  }
 },
 "nbformat": 4,
 "nbformat_minor": 2
}
