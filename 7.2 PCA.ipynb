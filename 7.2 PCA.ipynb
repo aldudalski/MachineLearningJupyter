{
 "cells": [
  {
   "cell_type": "markdown",
   "metadata": {},
   "source": [
    "# 7 Principle Component Analysis and K-Means Clustering\n",
    "# 7.2 PCA"
   ]
  },
  {
   "cell_type": "markdown",
   "metadata": {},
   "source": [
    "## Part 1: Load Example Dataset"
   ]
  },
  {
   "cell_type": "code",
   "execution_count": 52,
   "metadata": {},
   "outputs": [],
   "source": [
    "# import key libraries (remember to pip install numpy etc. first)\n",
    "import numpy as np\n",
    "import sys\n",
    "import sklearn as sk\n",
    "import matplotlib.pyplot as plt\n",
    "%matplotlib inline"
   ]
  },
  {
   "cell_type": "code",
   "execution_count": 13,
   "metadata": {},
   "outputs": [],
   "source": [
    "# import csv data\n",
    "PATH=\"./data/\"\n",
    "DATA=\"ex7data1.mat\"\n",
    "\n",
    "import scipy.io\n",
    "mat = scipy.io.loadmat(f'{PATH}{DATA}') # training data stored in arrays X, y\n",
    "X = mat['X']"
   ]
  },
  {
   "cell_type": "code",
   "execution_count": 91,
   "metadata": {},
   "outputs": [
    {
     "name": "stdout",
     "output_type": "stream",
     "text": [
      "Visualizing example dataset for PCA.\n",
      "\n",
      "\n"
     ]
    },
    {
     "data": {
      "image/png": "[encoded data removed]",
      "text/plain": [
       "<Figure size 432x288 with 1 Axes>"
      ]
     },
     "metadata": {},
     "output_type": "display_data"
    }
   ],
   "source": [
    "def pltData():\n",
    "    plt. plot(X[:, 0], X[:, 1], 'bo')\n",
    "    plt.axis([0.5, 6.5, 2, 8])\n",
    "    plt.axis('square');\n",
    "\n",
    "print('Visualizing example dataset for PCA.\\n\\n')\n",
    "pltData()"
   ]
  },
  {
   "cell_type": "markdown",
   "metadata": {},
   "source": [
    "## Part 2: Principal Component Analysis"
   ]
  },
  {
   "cell_type": "code",
   "execution_count": 48,
   "metadata": {},
   "outputs": [],
   "source": [
    "def featureNormalize(X):\n",
    "#FEATURENORMALIZE Normalizes the features in X \n",
    "#   FEATURENORMALIZE(X) returns a normalized version of X where\n",
    "#   the mean value of each feature is 0 and the standard deviation\n",
    "#   is 1. This is often a good preprocessing step to do when\n",
    "#   working with learning algorithms.\n",
    "\n",
    "    mu = np.mean(X, axis=0)\n",
    "    X_norm = X-mu\n",
    "\n",
    "    sigma = np.std(X_norm, axis=0, ddof=1)\n",
    "    X_norm = X_norm/sigma\n",
    "\n",
    "    return X_norm, mu, sigma"
   ]
  },
  {
   "cell_type": "code",
   "execution_count": 72,
   "metadata": {},
   "outputs": [],
   "source": [
    "def pca(X):\n",
    "#PCA Run principal component analysis on the dataset X\n",
    "#   [U, S, X] = pca(X) computes eigenvectors of the covariance matrix of X\n",
    "#   Returns the eigenvectors U, the eigenvalues (on diagonal) in S\n",
    "\n",
    "    # Useful values\n",
    "    m, n = X.shape\n",
    "\n",
    "    # You need to return the following variables correctly.\n",
    "    U = np.zeros(n)\n",
    "    S = np.zeros(n)\n",
    "\n",
    "    sigma = X.T @ X / m #  Covariance of X: n x m x m x n = n x n\n",
    "\n",
    "    U, S, Vh = np.linalg.svd (sigma) # find the eigenvectors (Principal Components) U and S diagnal matrix which helps with the projection error or invcerse which is the variance retained\n",
    "    return U, S"
   ]
  },
  {
   "cell_type": "code",
   "execution_count": 78,
   "metadata": {},
   "outputs": [],
   "source": [
    "def drawLine(p1, p2):\n",
    "    #DRAWLINE Draws a line from point p1 to point p2\n",
    "    #   DRAWLINE(p1, p2) Draws a line from point p1 to point p2 and holds the\n",
    "    #   current figure\n",
    "\n",
    "    plt.plot([p1[0], p2[0]], [p1[1], p2[1]], '-k', linewidth=2)"
   ]
  },
  {
   "cell_type": "code",
   "execution_count": 79,
   "metadata": {},
   "outputs": [
    {
     "name": "stdout",
     "output_type": "stream",
     "text": [
      "Running PCA on example dataset.\n",
      "\n",
      "\n"
     ]
    }
   ],
   "source": [
    "print('Running PCA on example dataset.\\n\\n')"
   ]
  },
  {
   "cell_type": "code",
   "execution_count": 93,
   "metadata": {},
   "outputs": [
    {
     "name": "stdout",
     "output_type": "stream",
     "text": [
      "Top eigenvector: \n",
      "\n",
      " U(:,1) =  -0.7071067811865475 -0.7071067811865477\n",
      "\n",
      "(you should expect to see -0.707107 -0.707107)\n",
      "\n"
     ]
    },
    {
     "data": {
      "image/png": "[encoded data removed]",
      "text/plain": [
       "<Figure size 432x288 with 1 Axes>"
      ]
     },
     "metadata": {},
     "output_type": "display_data"
    }
   ],
   "source": [
    "#  Before running PCA, it is important to first normalize X\n",
    "X_norm, mu, sigma = featureNormalize(X)\n",
    "\n",
    "#  Run PCA\n",
    "U, S = pca(X_norm)\n",
    "\n",
    "#  Compute mu, the mean of the each feature\n",
    "\n",
    "#  Draw the eigenvectors centered at mean of data. These lines show the\n",
    "#  directions of maximum variations in the dataset.\n",
    "pltData()\n",
    "drawLine(mu, mu + 1.5 * S[0] * U[:,0].T);\n",
    "drawLine(mu, mu + 1.5 * S[1] * U[:,1].T);\n",
    "\n",
    "print('Top eigenvector: \\n');\n",
    "print(' U(:,1) = ', U[0,0], U[1,0])\n",
    "print('\\n(you should expect to see -0.707107 -0.707107)\\n');\n"
   ]
  },
  {
   "cell_type": "markdown",
   "metadata": {},
   "source": [
    "## Part 3: Dimension Reduction"
   ]
  },
  {
   "cell_type": "code",
   "execution_count": null,
   "metadata": {},
   "outputs": [],
   "source": []
  }
 ],
 "metadata": {
  "kernelspec": {
   "display_name": "Python 3",
   "language": "python",
   "name": "python3"
  },
  "language_info": {
   "codemirror_mode": {
    "name": "ipython",
    "version": 3
   },
   "file_extension": ".py",
   "mimetype": "text/x-python",
   "name": "python",
   "nbconvert_exporter": "python",
   "pygments_lexer": "ipython3",
   "version": "3.6.6"
  }
 },
 "nbformat": 4,
 "nbformat_minor": 2
}
